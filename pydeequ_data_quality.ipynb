{
  "nbformat": 4,
  "nbformat_minor": 0,
  "metadata": {
    "colab": {
      "provenance": []
    },
    "kernelspec": {
      "name": "python3",
      "display_name": "Python 3"
    },
    "language_info": {
      "name": "python"
    }
  },
  "cells": [
    {
      "cell_type": "code",
      "execution_count": 1,
      "metadata": {
        "colab": {
          "base_uri": "https://localhost:8080/"
        },
        "id": "ggFvivbveVTY",
        "outputId": "07ec5f24-b1d6-4216-9e7e-b7237c80fa1f"
      },
      "outputs": [
        {
          "output_type": "stream",
          "name": "stdout",
          "text": [
            "Collecting pyspark==3.3.4\n",
            "  Downloading pyspark-3.3.4.tar.gz (281.5 MB)\n",
            "\u001b[2K     \u001b[90m━━━━━━━━━━━━━━━━━━━━━━━━━━━━━━━━━━━━━━━━\u001b[0m \u001b[32m281.5/281.5 MB\u001b[0m \u001b[31m1.2 MB/s\u001b[0m eta \u001b[36m0:00:00\u001b[0m\n",
            "\u001b[?25h  Preparing metadata (setup.py) ... \u001b[?25l\u001b[?25hdone\n",
            "Collecting py4j==0.10.9.5 (from pyspark==3.3.4)\n",
            "  Downloading py4j-0.10.9.5-py2.py3-none-any.whl.metadata (1.5 kB)\n",
            "Downloading py4j-0.10.9.5-py2.py3-none-any.whl (199 kB)\n",
            "\u001b[2K   \u001b[90m━━━━━━━━━━━━━━━━━━━━━━━━━━━━━━━━━━━━━━━━\u001b[0m \u001b[32m199.7/199.7 kB\u001b[0m \u001b[31m1.3 MB/s\u001b[0m eta \u001b[36m0:00:00\u001b[0m\n",
            "\u001b[?25hBuilding wheels for collected packages: pyspark\n",
            "  Building wheel for pyspark (setup.py) ... \u001b[?25l\u001b[?25hdone\n",
            "  Created wheel for pyspark: filename=pyspark-3.3.4-py2.py3-none-any.whl size=281945735 sha256=0668c052d96c506c1903dcd2e11c4d77119fc192001eb12f11e1109649565313\n",
            "  Stored in directory: /root/.cache/pip/wheels/33/e6/00/f21ce51bdac1b8689263d156ffd3d300558ec0b452945f7ee4\n",
            "Successfully built pyspark\n",
            "Installing collected packages: py4j, pyspark\n",
            "  Attempting uninstall: py4j\n",
            "    Found existing installation: py4j 0.10.9.7\n",
            "    Uninstalling py4j-0.10.9.7:\n",
            "      Successfully uninstalled py4j-0.10.9.7\n",
            "Successfully installed py4j-0.10.9.5 pyspark-3.3.4\n",
            "Collecting PyDeequ==1.1.0\n",
            "  Downloading pydeequ-1.1.0-py3-none-any.whl.metadata (9.1 kB)\n",
            "Requirement already satisfied: numpy>=1.14.1 in /usr/local/lib/python3.10/dist-packages (from PyDeequ==1.1.0) (1.25.2)\n",
            "Requirement already satisfied: pandas>=0.23.0 in /usr/local/lib/python3.10/dist-packages (from PyDeequ==1.1.0) (2.0.3)\n",
            "Requirement already satisfied: python-dateutil>=2.8.2 in /usr/local/lib/python3.10/dist-packages (from pandas>=0.23.0->PyDeequ==1.1.0) (2.8.2)\n",
            "Requirement already satisfied: pytz>=2020.1 in /usr/local/lib/python3.10/dist-packages (from pandas>=0.23.0->PyDeequ==1.1.0) (2023.4)\n",
            "Requirement already satisfied: tzdata>=2022.1 in /usr/local/lib/python3.10/dist-packages (from pandas>=0.23.0->PyDeequ==1.1.0) (2024.1)\n",
            "Requirement already satisfied: six>=1.5 in /usr/local/lib/python3.10/dist-packages (from python-dateutil>=2.8.2->pandas>=0.23.0->PyDeequ==1.1.0) (1.16.0)\n",
            "Downloading pydeequ-1.1.0-py3-none-any.whl (36 kB)\n",
            "Installing collected packages: PyDeequ\n",
            "Successfully installed PyDeequ-1.1.0\n"
          ]
        }
      ],
      "source": [
        "!pip install pyspark==3.3.4\n",
        "!pip install PyDeequ==1.1.0"
      ]
    },
    {
      "cell_type": "code",
      "source": [
        "import os\n",
        "\n",
        "import pydeequ\n",
        "from pydeequ.analyzers import *\n",
        "from pydeequ.verification import *\n",
        "from pydeequ.profiles import *\n",
        "from pydeequ.checks import *\n",
        "from pydeequ.verification import *\n",
        "\n",
        "from pyspark.sql import SparkSession, Row\n",
        "from pyspark.sql.functions import regexp_replace, expr"
      ],
      "metadata": {
        "id": "TtVJwXzpn14I"
      },
      "execution_count": 38,
      "outputs": []
    },
    {
      "cell_type": "code",
      "source": [
        "os.environ['SPARK_VERSION'] = '3.3'"
      ],
      "metadata": {
        "id": "eAaSN4r7n3SG"
      },
      "execution_count": 9,
      "outputs": []
    },
    {
      "cell_type": "code",
      "source": [
        "spark = (\n",
        "    SparkSession.builder \\\n",
        "    .config('spark.jars.packages', pydeequ.deequ_maven_coord) \\\n",
        "    .config('spark.jars.excludes', pydeequ.f2j_maven_coord) \\\n",
        "    .getOrCreate()\n",
        ")"
      ],
      "metadata": {
        "id": "z_-vVp0jn3iD"
      },
      "execution_count": 10,
      "outputs": []
    },
    {
      "cell_type": "code",
      "source": [
        "spark"
      ],
      "metadata": {
        "colab": {
          "base_uri": "https://localhost:8080/",
          "height": 222
        },
        "id": "gRtxBjH6n41i",
        "outputId": "56b8183a-2e80-4bc8-c38a-96980f3e453b"
      },
      "execution_count": 11,
      "outputs": [
        {
          "output_type": "execute_result",
          "data": {
            "text/plain": [
              "<pyspark.sql.session.SparkSession at 0x7ba44ca19600>"
            ],
            "text/html": [
              "\n",
              "            <div>\n",
              "                <p><b>SparkSession - in-memory</b></p>\n",
              "                \n",
              "        <div>\n",
              "            <p><b>SparkContext</b></p>\n",
              "\n",
              "            <p><a href=\"http://a08c523a8ae4:4040\">Spark UI</a></p>\n",
              "\n",
              "            <dl>\n",
              "              <dt>Version</dt>\n",
              "                <dd><code>v3.3.4</code></dd>\n",
              "              <dt>Master</dt>\n",
              "                <dd><code>local[*]</code></dd>\n",
              "              <dt>AppName</dt>\n",
              "                <dd><code>pyspark-shell</code></dd>\n",
              "            </dl>\n",
              "        </div>\n",
              "        \n",
              "            </div>\n",
              "        "
            ]
          },
          "metadata": {},
          "execution_count": 11
        }
      ]
    },
    {
      "cell_type": "code",
      "source": [
        "df = spark.read \\\n",
        "  .option('header', 'true') \\\n",
        "  .option('delimiter', ';') \\\n",
        "  .option('encoding', 'UTF16') \\\n",
        "  .csv('/content/bilheteria-diaria-obras-por-distribuidoras-2023-12.csv')"
      ],
      "metadata": {
        "colab": {
          "base_uri": "https://localhost:8080/"
        },
        "id": "ijFCsDjWoz1z",
        "outputId": "d8a2a0c9-33ec-4894-f141-5ab7110d5025"
      },
      "execution_count": 12,
      "outputs": [
        {
          "output_type": "stream",
          "name": "stdout",
          "text": [
            "root\n",
            " |-- DATA_EXIBICAO: string (nullable = true)\n",
            " |-- TITULO_ORIGINAL: string (nullable = true)\n",
            " |-- TITULO_BRASIL: string (nullable = true)\n",
            " |-- CPB_ROE: string (nullable = true)\n",
            " |-- PAIS_OBRA: string (nullable = true)\n",
            " |-- REGISTRO_SALA: string (nullable = true)\n",
            " |-- NOME_SALA: string (nullable = true)\n",
            " |-- PUBLICO: string (nullable = true)\n",
            " |-- REGISTRO_GRUPO_EXIBIDOR: string (nullable = true)\n",
            " |-- REGISTRO_EXIBIDOR: string (nullable = true)\n",
            " |-- REGISTRO_COMPLEXO: string (nullable = true)\n",
            " |-- MUNICIPIO_SALA_COMPLEXO: string (nullable = true)\n",
            " |-- UF_SALA_COMPLEXO: string (nullable = true)\n",
            " |-- RAZAO_SOCIAL_DISTRIBUIDORA: string (nullable = true)\n",
            " |-- CNPJ_DISTRIBUIDORA�: string (nullable = true)\n",
            "\n"
          ]
        }
      ]
    },
    {
      "cell_type": "code",
      "source": [
        "df.show()"
      ],
      "metadata": {
        "colab": {
          "base_uri": "https://localhost:8080/"
        },
        "id": "FlW5QyMPr0zz",
        "outputId": "6e12f579-3fde-4a61-9983-a4abbe172705"
      },
      "execution_count": 13,
      "outputs": [
        {
          "output_type": "stream",
          "name": "stdout",
          "text": [
            "+-------------+--------------------+-------------------+--------------+--------------+-------------+--------------------+-------+-----------------------+-----------------+-----------------+-----------------------+----------------+--------------------------+-------------------+\n",
            "|DATA_EXIBICAO|     TITULO_ORIGINAL|      TITULO_BRASIL|       CPB_ROE|     PAIS_OBRA|REGISTRO_SALA|           NOME_SALA|PUBLICO|REGISTRO_GRUPO_EXIBIDOR|REGISTRO_EXIBIDOR|REGISTRO_COMPLEXO|MUNICIPIO_SALA_COMPLEXO|UF_SALA_COMPLEXO|RAZAO_SOCIAL_DISTRIBUIDORA|CNPJ_DISTRIBUIDORA�|\n",
            "+-------------+--------------------+-------------------+--------------+--------------+-------------+--------------------+-------+-----------------------+-----------------+-----------------+-----------------------+----------------+--------------------------+-------------------+\n",
            "|   01/12/2023|ABELHA GIRL A SUP...|               null|B2300132300000|        BRASIL|         null|luciano da luz mo...|    350|                   null|             null|             null|           PORTO ALEGRE|              RS|      LUCIANA REGINA RO...|28.027.101/0001-75�|\n",
            "|   01/12/2023|   ALL FUN AND GAMES|O JOGO DA INVOCAÇÃO|E2300230000000|ESTADOS UNIDOS|      5000794|ANÁLIA FRANCO - S...|    482|                6000058|              749|             2622|              SÃO PAULO|              SP|      DIAMOND FILMS DO ...|17.095.184/0001-13�|\n",
            "|   01/12/2023|   ALL FUN AND GAMES|O JOGO DA INVOCAÇÃO|E2300230000000|ESTADOS UNIDOS|      5003619|          ANÁPOLIS 3|     20|                6000017|             2892|            22800|               ANÁPOLIS|              GO|      DIAMOND FILMS DO ...|17.095.184/0001-13�|\n",
            "|   01/12/2023|   ALL FUN AND GAMES|O JOGO DA INVOCAÇÃO|E2300230000000|ESTADOS UNIDOS|      5004486|    ARAPIRACA BRA 04|    241|                6000027|            22546|            26037|              ARAPIRACA|              AL|      DIAMOND FILMS DO ...|17.095.184/0001-13�|\n",
            "|   01/12/2023|   ALL FUN AND GAMES|O JOGO DA INVOCAÇÃO|E2300230000000|ESTADOS UNIDOS|      5003369|ARAÚJO MULTIPLEX ...|     24|                6000002|             3103|            20363|             RIO BRANCO|              AC|      DIAMOND FILMS DO ...|17.095.184/0001-13�|\n",
            "|   01/12/2023|   ALL FUN AND GAMES|O JOGO DA INVOCAÇÃO|E2300230000000|ESTADOS UNIDOS|      5005679|ARCOPLEXCINEMAS G...|      2|                6000003|            24035|            34183|               GRAVATAÍ|              RS|      DIAMOND FILMS DO ...|17.095.184/0001-13�|\n",
            "|   01/12/2023|   ALL FUN AND GAMES|O JOGO DA INVOCAÇÃO|E2300230000000|ESTADOS UNIDOS|      5005041|ARCOPLEXCINEMAS L...|      2|                6000003|            24035|            24051|                LAJEADO|              RS|      DIAMOND FILMS DO ...|17.095.184/0001-13�|\n",
            "|   01/12/2023|   ALL FUN AND GAMES|O JOGO DA INVOCAÇÃO|E2300230000000|ESTADOS UNIDOS|      5005315|ARCOPLEXCINEMAS L...|      4|                6000003|            24035|            24043|                LIMEIRA|              SP|      DIAMOND FILMS DO ...|17.095.184/0001-13�|\n",
            "|   01/12/2023|   ALL FUN AND GAMES|O JOGO DA INVOCAÇÃO|E2300230000000|ESTADOS UNIDOS|      5003835|ARCOPLEXCINEMAS- ...|     13|                6000003|            24035|            24053|               BLUMENAU|              SC|      DIAMOND FILMS DO ...|17.095.184/0001-13�|\n",
            "|   01/12/2023|   ALL FUN AND GAMES|O JOGO DA INVOCAÇÃO|E2300230000000|ESTADOS UNIDOS|      5003857|ARCOPLEXCINEMAS- ...|      7|                6000003|            24035|            24060|            SANTA MARIA|              RS|      DIAMOND FILMS DO ...|17.095.184/0001-13�|\n",
            "|   01/12/2023|   ALL FUN AND GAMES|O JOGO DA INVOCAÇÃO|E2300230000000|ESTADOS UNIDOS|      5003862|ARCOPLEXCINEMAS- ...|      9|                6000003|            24035|            24062|                PALHOÇA|              SC|      DIAMOND FILMS DO ...|17.095.184/0001-13�|\n",
            "|   01/12/2023|   ALL FUN AND GAMES|O JOGO DA INVOCAÇÃO|E2300230000000|ESTADOS UNIDOS|      5003826|ARCOPLEXCINEMAS-I...|      9|                6000003|            24035|            24049|                 ITAJAÍ|              SC|      DIAMOND FILMS DO ...|17.095.184/0001-13�|\n",
            "|   01/12/2023|   ALL FUN AND GAMES|O JOGO DA INVOCAÇÃO|E2300230000000|ESTADOS UNIDOS|      5006139|ART MOVIE KARAJAS 01|      6|                6000028|            15568|            41661|            PARAUAPEBAS|              PA|      DIAMOND FILMS DO ...|17.095.184/0001-13�|\n",
            "|   01/12/2023|   ALL FUN AND GAMES|O JOGO DA INVOCAÇÃO|E2300230000000|ESTADOS UNIDOS|      5002969|BOULEVARD SHOPPIN...|    120|                6000013|              437|            17944|         BELO HORIZONTE|              MG|      DIAMOND FILMS DO ...|17.095.184/0001-13�|\n",
            "|   01/12/2023|   ALL FUN AND GAMES|O JOGO DA INVOCAÇÃO|E2300230000000|ESTADOS UNIDOS|      5003907|          CAMPINAS 3|     52|                6000002|             3136|            24150|               CAMPINAS|              SP|      DIAMOND FILMS DO ...|17.095.184/0001-13�|\n",
            "|   01/12/2023|   ALL FUN AND GAMES|O JOGO DA INVOCAÇÃO|E2300230000000|ESTADOS UNIDOS|      5002996|   CATUAI MARINGÁ 03|    119|                6000002|             3136|            18126|                MARINGÁ|              PR|      DIAMOND FILMS DO ...|17.095.184/0001-13�|\n",
            "|   01/12/2023|   ALL FUN AND GAMES|O JOGO DA INVOCAÇÃO|E2300230000000|ESTADOS UNIDOS|      5006366|CENTERPLEX ARACAJ...|     35|                6000006|            44041|            44042|                ARACAJU|              SE|      DIAMOND FILMS DO ...|17.095.184/0001-13�|\n",
            "|   01/12/2023|   ALL FUN AND GAMES|O JOGO DA INVOCAÇÃO|E2300230000000|ESTADOS UNIDOS|      5006060|CENTERPLEX BOULEV...|     18|                6000006|            40317|            40318|   VITÓRIA DA CONQUISTA|              BA|      DIAMOND FILMS DO ...|17.095.184/0001-13�|\n",
            "|   01/12/2023|   ALL FUN AND GAMES|O JOGO DA INVOCAÇÃO|E2300230000000|ESTADOS UNIDOS|      5003383|CENTERPLEX CARAGU...|     13|                6000006|             2836|            20413|          CARAGUATATUBA|              SP|      DIAMOND FILMS DO ...|17.095.184/0001-13�|\n",
            "|   01/12/2023|   ALL FUN AND GAMES|O JOGO DA INVOCAÇÃO|E2300230000000|ESTADOS UNIDOS|      5005880|CENTERPLEX MAG SH...|     12|                6000006|            37601|            37602|            JOÃO PESSOA|              PB|      DIAMOND FILMS DO ...|17.095.184/0001-13�|\n",
            "+-------------+--------------------+-------------------+--------------+--------------+-------------+--------------------+-------+-----------------------+-----------------+-----------------+-----------------------+----------------+--------------------------+-------------------+\n",
            "only showing top 20 rows\n",
            "\n"
          ]
        }
      ]
    },
    {
      "cell_type": "code",
      "source": [
        "df = df.withColumnRenamed(df.columns[-1], df.columns[-1][:-1])"
      ],
      "metadata": {
        "id": "VyioW0ZIr587"
      },
      "execution_count": 14,
      "outputs": []
    },
    {
      "cell_type": "code",
      "source": [
        "df.show()"
      ],
      "metadata": {
        "colab": {
          "base_uri": "https://localhost:8080/"
        },
        "id": "q_udds-PtepP",
        "outputId": "efa478f8-7963-460f-9aa9-5ce759c48d3e"
      },
      "execution_count": 15,
      "outputs": [
        {
          "output_type": "stream",
          "name": "stdout",
          "text": [
            "+-------------+--------------------+-------------------+--------------+--------------+-------------+--------------------+-------+-----------------------+-----------------+-----------------+-----------------------+----------------+--------------------------+-------------------+\n",
            "|DATA_EXIBICAO|     TITULO_ORIGINAL|      TITULO_BRASIL|       CPB_ROE|     PAIS_OBRA|REGISTRO_SALA|           NOME_SALA|PUBLICO|REGISTRO_GRUPO_EXIBIDOR|REGISTRO_EXIBIDOR|REGISTRO_COMPLEXO|MUNICIPIO_SALA_COMPLEXO|UF_SALA_COMPLEXO|RAZAO_SOCIAL_DISTRIBUIDORA| CNPJ_DISTRIBUIDORA|\n",
            "+-------------+--------------------+-------------------+--------------+--------------+-------------+--------------------+-------+-----------------------+-----------------+-----------------+-----------------------+----------------+--------------------------+-------------------+\n",
            "|   01/12/2023|ABELHA GIRL A SUP...|               null|B2300132300000|        BRASIL|         null|luciano da luz mo...|    350|                   null|             null|             null|           PORTO ALEGRE|              RS|      LUCIANA REGINA RO...|28.027.101/0001-75�|\n",
            "|   01/12/2023|   ALL FUN AND GAMES|O JOGO DA INVOCAÇÃO|E2300230000000|ESTADOS UNIDOS|      5000794|ANÁLIA FRANCO - S...|    482|                6000058|              749|             2622|              SÃO PAULO|              SP|      DIAMOND FILMS DO ...|17.095.184/0001-13�|\n",
            "|   01/12/2023|   ALL FUN AND GAMES|O JOGO DA INVOCAÇÃO|E2300230000000|ESTADOS UNIDOS|      5003619|          ANÁPOLIS 3|     20|                6000017|             2892|            22800|               ANÁPOLIS|              GO|      DIAMOND FILMS DO ...|17.095.184/0001-13�|\n",
            "|   01/12/2023|   ALL FUN AND GAMES|O JOGO DA INVOCAÇÃO|E2300230000000|ESTADOS UNIDOS|      5004486|    ARAPIRACA BRA 04|    241|                6000027|            22546|            26037|              ARAPIRACA|              AL|      DIAMOND FILMS DO ...|17.095.184/0001-13�|\n",
            "|   01/12/2023|   ALL FUN AND GAMES|O JOGO DA INVOCAÇÃO|E2300230000000|ESTADOS UNIDOS|      5003369|ARAÚJO MULTIPLEX ...|     24|                6000002|             3103|            20363|             RIO BRANCO|              AC|      DIAMOND FILMS DO ...|17.095.184/0001-13�|\n",
            "|   01/12/2023|   ALL FUN AND GAMES|O JOGO DA INVOCAÇÃO|E2300230000000|ESTADOS UNIDOS|      5005679|ARCOPLEXCINEMAS G...|      2|                6000003|            24035|            34183|               GRAVATAÍ|              RS|      DIAMOND FILMS DO ...|17.095.184/0001-13�|\n",
            "|   01/12/2023|   ALL FUN AND GAMES|O JOGO DA INVOCAÇÃO|E2300230000000|ESTADOS UNIDOS|      5005041|ARCOPLEXCINEMAS L...|      2|                6000003|            24035|            24051|                LAJEADO|              RS|      DIAMOND FILMS DO ...|17.095.184/0001-13�|\n",
            "|   01/12/2023|   ALL FUN AND GAMES|O JOGO DA INVOCAÇÃO|E2300230000000|ESTADOS UNIDOS|      5005315|ARCOPLEXCINEMAS L...|      4|                6000003|            24035|            24043|                LIMEIRA|              SP|      DIAMOND FILMS DO ...|17.095.184/0001-13�|\n",
            "|   01/12/2023|   ALL FUN AND GAMES|O JOGO DA INVOCAÇÃO|E2300230000000|ESTADOS UNIDOS|      5003835|ARCOPLEXCINEMAS- ...|     13|                6000003|            24035|            24053|               BLUMENAU|              SC|      DIAMOND FILMS DO ...|17.095.184/0001-13�|\n",
            "|   01/12/2023|   ALL FUN AND GAMES|O JOGO DA INVOCAÇÃO|E2300230000000|ESTADOS UNIDOS|      5003857|ARCOPLEXCINEMAS- ...|      7|                6000003|            24035|            24060|            SANTA MARIA|              RS|      DIAMOND FILMS DO ...|17.095.184/0001-13�|\n",
            "|   01/12/2023|   ALL FUN AND GAMES|O JOGO DA INVOCAÇÃO|E2300230000000|ESTADOS UNIDOS|      5003862|ARCOPLEXCINEMAS- ...|      9|                6000003|            24035|            24062|                PALHOÇA|              SC|      DIAMOND FILMS DO ...|17.095.184/0001-13�|\n",
            "|   01/12/2023|   ALL FUN AND GAMES|O JOGO DA INVOCAÇÃO|E2300230000000|ESTADOS UNIDOS|      5003826|ARCOPLEXCINEMAS-I...|      9|                6000003|            24035|            24049|                 ITAJAÍ|              SC|      DIAMOND FILMS DO ...|17.095.184/0001-13�|\n",
            "|   01/12/2023|   ALL FUN AND GAMES|O JOGO DA INVOCAÇÃO|E2300230000000|ESTADOS UNIDOS|      5006139|ART MOVIE KARAJAS 01|      6|                6000028|            15568|            41661|            PARAUAPEBAS|              PA|      DIAMOND FILMS DO ...|17.095.184/0001-13�|\n",
            "|   01/12/2023|   ALL FUN AND GAMES|O JOGO DA INVOCAÇÃO|E2300230000000|ESTADOS UNIDOS|      5002969|BOULEVARD SHOPPIN...|    120|                6000013|              437|            17944|         BELO HORIZONTE|              MG|      DIAMOND FILMS DO ...|17.095.184/0001-13�|\n",
            "|   01/12/2023|   ALL FUN AND GAMES|O JOGO DA INVOCAÇÃO|E2300230000000|ESTADOS UNIDOS|      5003907|          CAMPINAS 3|     52|                6000002|             3136|            24150|               CAMPINAS|              SP|      DIAMOND FILMS DO ...|17.095.184/0001-13�|\n",
            "|   01/12/2023|   ALL FUN AND GAMES|O JOGO DA INVOCAÇÃO|E2300230000000|ESTADOS UNIDOS|      5002996|   CATUAI MARINGÁ 03|    119|                6000002|             3136|            18126|                MARINGÁ|              PR|      DIAMOND FILMS DO ...|17.095.184/0001-13�|\n",
            "|   01/12/2023|   ALL FUN AND GAMES|O JOGO DA INVOCAÇÃO|E2300230000000|ESTADOS UNIDOS|      5006366|CENTERPLEX ARACAJ...|     35|                6000006|            44041|            44042|                ARACAJU|              SE|      DIAMOND FILMS DO ...|17.095.184/0001-13�|\n",
            "|   01/12/2023|   ALL FUN AND GAMES|O JOGO DA INVOCAÇÃO|E2300230000000|ESTADOS UNIDOS|      5006060|CENTERPLEX BOULEV...|     18|                6000006|            40317|            40318|   VITÓRIA DA CONQUISTA|              BA|      DIAMOND FILMS DO ...|17.095.184/0001-13�|\n",
            "|   01/12/2023|   ALL FUN AND GAMES|O JOGO DA INVOCAÇÃO|E2300230000000|ESTADOS UNIDOS|      5003383|CENTERPLEX CARAGU...|     13|                6000006|             2836|            20413|          CARAGUATATUBA|              SP|      DIAMOND FILMS DO ...|17.095.184/0001-13�|\n",
            "|   01/12/2023|   ALL FUN AND GAMES|O JOGO DA INVOCAÇÃO|E2300230000000|ESTADOS UNIDOS|      5005880|CENTERPLEX MAG SH...|     12|                6000006|            37601|            37602|            JOÃO PESSOA|              PB|      DIAMOND FILMS DO ...|17.095.184/0001-13�|\n",
            "+-------------+--------------------+-------------------+--------------+--------------+-------------+--------------------+-------+-----------------------+-----------------+-----------------+-----------------------+----------------+--------------------------+-------------------+\n",
            "only showing top 20 rows\n",
            "\n"
          ]
        }
      ]
    },
    {
      "cell_type": "code",
      "source": [
        "df = df.withColumn('CNPJ_DISTRIBUIDORA', expr('substring(CNPJ_DISTRIBUIDORA, 1, length(CNPJ_DISTRIBUIDORA)-1)'))"
      ],
      "metadata": {
        "id": "lfqIijhQtfiF"
      },
      "execution_count": 16,
      "outputs": []
    },
    {
      "cell_type": "code",
      "source": [
        "df.show(2)"
      ],
      "metadata": {
        "colab": {
          "base_uri": "https://localhost:8080/"
        },
        "id": "fnUvGl1OuHjE",
        "outputId": "650394d8-96b2-4f70-9d35-a6d19cb2ffc7"
      },
      "execution_count": 17,
      "outputs": [
        {
          "output_type": "stream",
          "name": "stdout",
          "text": [
            "+-------------+--------------------+-------------------+--------------+--------------+-------------+--------------------+-------+-----------------------+-----------------+-----------------+-----------------------+----------------+--------------------------+------------------+\n",
            "|DATA_EXIBICAO|     TITULO_ORIGINAL|      TITULO_BRASIL|       CPB_ROE|     PAIS_OBRA|REGISTRO_SALA|           NOME_SALA|PUBLICO|REGISTRO_GRUPO_EXIBIDOR|REGISTRO_EXIBIDOR|REGISTRO_COMPLEXO|MUNICIPIO_SALA_COMPLEXO|UF_SALA_COMPLEXO|RAZAO_SOCIAL_DISTRIBUIDORA|CNPJ_DISTRIBUIDORA|\n",
            "+-------------+--------------------+-------------------+--------------+--------------+-------------+--------------------+-------+-----------------------+-----------------+-----------------+-----------------------+----------------+--------------------------+------------------+\n",
            "|   01/12/2023|ABELHA GIRL A SUP...|               null|B2300132300000|        BRASIL|         null|luciano da luz mo...|    350|                   null|             null|             null|           PORTO ALEGRE|              RS|      LUCIANA REGINA RO...|28.027.101/0001-75|\n",
            "|   01/12/2023|   ALL FUN AND GAMES|O JOGO DA INVOCAÇÃO|E2300230000000|ESTADOS UNIDOS|      5000794|ANÁLIA FRANCO - S...|    482|                6000058|              749|             2622|              SÃO PAULO|              SP|      DIAMOND FILMS DO ...|17.095.184/0001-13|\n",
            "+-------------+--------------------+-------------------+--------------+--------------+-------------+--------------------+-------+-----------------------+-----------------+-----------------+-----------------------+----------------+--------------------------+------------------+\n",
            "only showing top 2 rows\n",
            "\n"
          ]
        }
      ]
    },
    {
      "cell_type": "code",
      "source": [
        "df.printSchema()"
      ],
      "metadata": {
        "colab": {
          "base_uri": "https://localhost:8080/"
        },
        "id": "AJ3rtu9FuJkz",
        "outputId": "025db127-cb22-4fd0-81ff-5e9e60786d92"
      },
      "execution_count": 18,
      "outputs": [
        {
          "output_type": "stream",
          "name": "stdout",
          "text": [
            "root\n",
            " |-- DATA_EXIBICAO: string (nullable = true)\n",
            " |-- TITULO_ORIGINAL: string (nullable = true)\n",
            " |-- TITULO_BRASIL: string (nullable = true)\n",
            " |-- CPB_ROE: string (nullable = true)\n",
            " |-- PAIS_OBRA: string (nullable = true)\n",
            " |-- REGISTRO_SALA: string (nullable = true)\n",
            " |-- NOME_SALA: string (nullable = true)\n",
            " |-- PUBLICO: string (nullable = true)\n",
            " |-- REGISTRO_GRUPO_EXIBIDOR: string (nullable = true)\n",
            " |-- REGISTRO_EXIBIDOR: string (nullable = true)\n",
            " |-- REGISTRO_COMPLEXO: string (nullable = true)\n",
            " |-- MUNICIPIO_SALA_COMPLEXO: string (nullable = true)\n",
            " |-- UF_SALA_COMPLEXO: string (nullable = true)\n",
            " |-- RAZAO_SOCIAL_DISTRIBUIDORA: string (nullable = true)\n",
            " |-- CNPJ_DISTRIBUIDORA: string (nullable = true)\n",
            "\n"
          ]
        }
      ]
    },
    {
      "cell_type": "code",
      "source": [
        "df = df.withColumn('PUBLICO', df['PUBLICO'].cast('integer'))"
      ],
      "metadata": {
        "id": "Xde-kdGZufWl"
      },
      "execution_count": 19,
      "outputs": []
    },
    {
      "cell_type": "code",
      "source": [
        "df.printSchema()"
      ],
      "metadata": {
        "colab": {
          "base_uri": "https://localhost:8080/"
        },
        "id": "AtLeUfwRvBEM",
        "outputId": "78498e89-7468-4972-e4c9-b7991afa0af1"
      },
      "execution_count": 20,
      "outputs": [
        {
          "output_type": "stream",
          "name": "stdout",
          "text": [
            "root\n",
            " |-- DATA_EXIBICAO: string (nullable = true)\n",
            " |-- TITULO_ORIGINAL: string (nullable = true)\n",
            " |-- TITULO_BRASIL: string (nullable = true)\n",
            " |-- CPB_ROE: string (nullable = true)\n",
            " |-- PAIS_OBRA: string (nullable = true)\n",
            " |-- REGISTRO_SALA: string (nullable = true)\n",
            " |-- NOME_SALA: string (nullable = true)\n",
            " |-- PUBLICO: integer (nullable = true)\n",
            " |-- REGISTRO_GRUPO_EXIBIDOR: string (nullable = true)\n",
            " |-- REGISTRO_EXIBIDOR: string (nullable = true)\n",
            " |-- REGISTRO_COMPLEXO: string (nullable = true)\n",
            " |-- MUNICIPIO_SALA_COMPLEXO: string (nullable = true)\n",
            " |-- UF_SALA_COMPLEXO: string (nullable = true)\n",
            " |-- RAZAO_SOCIAL_DISTRIBUIDORA: string (nullable = true)\n",
            " |-- CNPJ_DISTRIBUIDORA: string (nullable = true)\n",
            "\n"
          ]
        }
      ]
    },
    {
      "cell_type": "markdown",
      "source": [
        "## Analysers"
      ],
      "metadata": {
        "id": "eDXSoyFsvtK5"
      }
    },
    {
      "cell_type": "code",
      "source": [
        "analyse = (\n",
        "    AnalysisRunner(spark)\n",
        "    .onData(df)\n",
        "    .addAnalyzer(Size())\n",
        "    .addAnalyzer(Completeness('NOME_SALA'))\n",
        "    .addAnalyzer(Completeness('PUBLICO'))\n",
        "    .addAnalyzer(Mean('PUBLICO'))\n",
        "    .addAnalyzer(CountDistinct('MUNICIPIO_SALA_COMPLEXO'))\n",
        "    .addAnalyzer(Compliance('PUBLICO', 'PUBLICO > 10'))\n",
        "    .run()\n",
        ")"
      ],
      "metadata": {
        "id": "LTwf4gY9vB3x"
      },
      "execution_count": 26,
      "outputs": []
    },
    {
      "cell_type": "code",
      "source": [
        "result_df = AnalyzerContext.successMetricsAsDataFrame(spark, analyse)"
      ],
      "metadata": {
        "colab": {
          "base_uri": "https://localhost:8080/"
        },
        "id": "1vWistxdwsD6",
        "outputId": "5342732b-9555-464e-ae6e-4496562d2f30"
      },
      "execution_count": 28,
      "outputs": [
        {
          "output_type": "stream",
          "name": "stderr",
          "text": [
            "/usr/local/lib/python3.10/dist-packages/pyspark/sql/dataframe.py:127: UserWarning: DataFrame constructor is internal. Do not directly use it.\n",
            "  warnings.warn(\"DataFrame constructor is internal. Do not directly use it.\")\n"
          ]
        },
        {
          "output_type": "execute_result",
          "data": {
            "text/plain": [
              "DataFrame[entity: string, instance: string, name: string, value: double]"
            ]
          },
          "metadata": {},
          "execution_count": 28
        }
      ]
    },
    {
      "cell_type": "code",
      "source": [
        "result_df.show()"
      ],
      "metadata": {
        "colab": {
          "base_uri": "https://localhost:8080/"
        },
        "id": "khthg5e_w4zU",
        "outputId": "39d33e81-a847-426e-9c5b-267276d50d4e"
      },
      "execution_count": 29,
      "outputs": [
        {
          "output_type": "stream",
          "name": "stdout",
          "text": [
            "+-------+--------------------+-------------+------------------+\n",
            "| entity|            instance|         name|             value|\n",
            "+-------+--------------------+-------------+------------------+\n",
            "| Column|             PUBLICO| Completeness|               1.0|\n",
            "| Column|             PUBLICO|         Mean|44.088970640254686|\n",
            "|Dataset|                   *|         Size|          141350.0|\n",
            "| Column|             PUBLICO|   Compliance|0.6735267067562788|\n",
            "| Column|MUNICIPIO_SALA_CO...|CountDistinct|             443.0|\n",
            "| Column|           NOME_SALA| Completeness|               1.0|\n",
            "+-------+--------------------+-------------+------------------+\n",
            "\n"
          ]
        }
      ]
    },
    {
      "cell_type": "markdown",
      "source": [
        "## Profilers"
      ],
      "metadata": {
        "id": "ZFLdWzPYzFAL"
      }
    },
    {
      "cell_type": "code",
      "source": [
        "profile = ColumnProfilerRunner(spark) \\\n",
        "                        .onData(df.select('TITULO_ORIGINAL', 'PUBLICO')) \\\n",
        "                        .run()"
      ],
      "metadata": {
        "id": "oVrcclihx_py"
      },
      "execution_count": 32,
      "outputs": []
    },
    {
      "cell_type": "code",
      "source": [
        "for key, value in profile.profiles.items():\n",
        "    print(key)\n",
        "    print(value)"
      ],
      "metadata": {
        "colab": {
          "base_uri": "https://localhost:8080/"
        },
        "id": "rfICDT0jz54x",
        "outputId": "c7ec95f2-f386-4846-8225-1dd944e0396b"
      },
      "execution_count": 36,
      "outputs": [
        {
          "output_type": "stream",
          "name": "stdout",
          "text": [
            "TITULO_ORIGINAL\n",
            "StandardProfiles for column: TITULO_ORIGINAL: {\n",
            "    \"completeness\": 1.0,\n",
            "    \"approximateNumDistinctValues\": 150,\n",
            "    \"dataType\": \"String\",\n",
            "    \"isDataTypeInferred\": false,\n",
            "    \"typeCounts\": {\n",
            "        \"Boolean\": 0,\n",
            "        \"Fractional\": 0,\n",
            "        \"Integral\": 0,\n",
            "        \"Unknown\": 0,\n",
            "        \"String\": 141350\n",
            "    },\n",
            "    \"histogram\": null\n",
            "}\n",
            "PUBLICO\n",
            "NumericProfiles for column: PUBLICO: {\n",
            "    \"completeness\": 1.0,\n",
            "    \"approximateNumDistinctValues\": 582,\n",
            "    \"dataType\": \"Integral\",\n",
            "    \"isDataTypeInferred\": false,\n",
            "    \"typeCounts\": {},\n",
            "    \"histogram\": null,\n",
            "    \"kll\": \"None\",\n",
            "    \"mean\": 44.088970640254686,\n",
            "    \"maximum\": 906.0,\n",
            "    \"minimum\": 1.0,\n",
            "    \"sum\": 6231976.0,\n",
            "    \"stdDev\": 61.57025735506737,\n",
            "    \"approxPercentiles\": []\n",
            "}\n"
          ]
        }
      ]
    },
    {
      "cell_type": "markdown",
      "source": [
        "## Checks"
      ],
      "metadata": {
        "id": "v26ENZ0n3naH"
      }
    },
    {
      "cell_type": "code",
      "source": [
        "test = Check(spark, CheckLevel.Warning, 'First check')"
      ],
      "metadata": {
        "id": "MbfymUuT3WAM"
      },
      "execution_count": 39,
      "outputs": []
    },
    {
      "cell_type": "code",
      "source": [
        "test1 = (\n",
        "    VerificationSuite(spark)\n",
        "    .onData(df)\n",
        "    .addCheck(\n",
        "        test.isUnique('PUBLICO', hint='Falha quando há valores iguais')\n",
        "        .isNonNegative('PUBLICO', hint='Falha quando há valores negativos')\n",
        "    ).run()\n",
        ")"
      ],
      "metadata": {
        "id": "M62nZ3T63-oC"
      },
      "execution_count": 41,
      "outputs": []
    },
    {
      "cell_type": "code",
      "source": [
        "resultado_test1 = VerificationResult.checkResultsAsDataFrame(spark, test1)\n",
        "resultado_test1.show()"
      ],
      "metadata": {
        "colab": {
          "base_uri": "https://localhost:8080/"
        },
        "id": "BZZ5punz4pBg",
        "outputId": "79c92aaf-a11a-463b-fb5f-7c0cc03d893c"
      },
      "execution_count": 42,
      "outputs": [
        {
          "output_type": "stream",
          "name": "stdout",
          "text": [
            "+-----------+-----------+------------+--------------------+-----------------+--------------------+\n",
            "|      check|check_level|check_status|          constraint|constraint_status|  constraint_message|\n",
            "+-----------+-----------+------------+--------------------+-----------------+--------------------+\n",
            "|First check|    Warning|     Warning|UniquenessConstra...|          Failure|Value: 6.29642730...|\n",
            "|First check|    Warning|     Warning|UniquenessConstra...|          Failure|Value: 6.29642730...|\n",
            "|First check|    Warning|     Warning|ComplianceConstra...|          Success|                    |\n",
            "+-----------+-----------+------------+--------------------+-----------------+--------------------+\n",
            "\n"
          ]
        },
        {
          "output_type": "stream",
          "name": "stderr",
          "text": [
            "/usr/local/lib/python3.10/dist-packages/pyspark/sql/dataframe.py:127: UserWarning: DataFrame constructor is internal. Do not directly use it.\n",
            "  warnings.warn(\"DataFrame constructor is internal. Do not directly use it.\")\n"
          ]
        }
      ]
    },
    {
      "cell_type": "code",
      "source": [
        "def verifica_acuracia(spark, df):\n",
        "    tamanho = 150000\n",
        "    teste_generico = Check(spark, CheckLevel.Error, 'Acuracia')\n",
        "    teste = (VerificationSuite(spark)\n",
        "        .onData(df)\n",
        "        .addCheck(\n",
        "            teste_generico.hasSize(lambda size: size >= 0.5 * tamanho and size <= 2.5 * tamanho)\n",
        "        )\n",
        "        .run()\n",
        "    )\n",
        "    return teste.checkResults[0]"
      ],
      "metadata": {
        "id": "TFRIi5we5L6O"
      },
      "execution_count": 43,
      "outputs": []
    },
    {
      "cell_type": "code",
      "source": [
        "resultado_acuracia = verifica_acuracia(spark, df)"
      ],
      "metadata": {
        "colab": {
          "base_uri": "https://localhost:8080/"
        },
        "id": "0XD6gRMn6Tga",
        "outputId": "4fb3366b-0512-4de0-e927-54e5b180a2bb"
      },
      "execution_count": 44,
      "outputs": [
        {
          "output_type": "stream",
          "name": "stdout",
          "text": [
            "Python Callback server started!\n"
          ]
        }
      ]
    },
    {
      "cell_type": "code",
      "source": [
        "resultado_acuracia"
      ],
      "metadata": {
        "colab": {
          "base_uri": "https://localhost:8080/"
        },
        "id": "PDIXmf-J6VTw",
        "outputId": "261f376f-ed98-423b-9206-848eb5b98b86"
      },
      "execution_count": 45,
      "outputs": [
        {
          "output_type": "execute_result",
          "data": {
            "text/plain": [
              "{'check_status': 'Success',\n",
              " 'check_level': 'Error',\n",
              " 'constraint_status': 'Success',\n",
              " 'check': 'Acuracia',\n",
              " 'constraint_message': '',\n",
              " 'constraint': 'SizeConstraint(Size(None))'}"
            ]
          },
          "metadata": {},
          "execution_count": 45
        }
      ]
    },
    {
      "cell_type": "code",
      "source": [
        "siglas_estados = [\n",
        "    \"AC\",  # Acre\n",
        "    \"AL\",  # Alagoas\n",
        "    \"AP\",  # Amapá\n",
        "    \"AM\",  # Amazonas\n",
        "    \"BA\",  # Bahia\n",
        "    \"CE\",  # Ceará\n",
        "    \"DF\",  # Distrito Federal\n",
        "    \"ES\",  # Espírito Santo\n",
        "    \"GO\",  # Goiás\n",
        "    \"MA\",  # Maranhão\n",
        "    \"MT\",  # Mato Grosso\n",
        "    \"MS\",  # Mato Grosso do Sul\n",
        "    \"MG\",  # Minas Gerais\n",
        "    \"PA\",  # Pará\n",
        "    \"PB\",  # Paraíba\n",
        "    \"PR\",  # Paraná\n",
        "    \"PE\",  # Pernambuco\n",
        "    \"PI\",  # Piauí\n",
        "    \"RJ\",  # Rio de Janeiro\n",
        "    \"RN\",  # Rio Grande do Norte\n",
        "    \"RS\",  # Rio Grande do Sul\n",
        "    \"RO\",  # Rondônia\n",
        "    \"RR\",  # Roraima\n",
        "    \"SC\",  # Santa Catarina\n",
        "    \"SP\",  # São Paulo\n",
        "    \"SE\",  # Sergipe\n",
        "    \"TO\"   # Tocantins\n",
        "]"
      ],
      "metadata": {
        "id": "SWO-g7366YmW"
      },
      "execution_count": 46,
      "outputs": []
    },
    {
      "cell_type": "code",
      "source": [
        "def cria_check(spark):\n",
        "    return Check(spark, CheckLevel.Error, 'Teste Generico')"
      ],
      "metadata": {
        "id": "TLycouvq62Ib"
      },
      "execution_count": 47,
      "outputs": []
    },
    {
      "cell_type": "code",
      "source": [
        "def verifica_validade(spark, df, teste_generico):\n",
        "    verificacao = (\n",
        "        VerificationSuite(spark)\n",
        "        .onData(df)\n",
        "        .addCheck(\n",
        "            teste_generico.isContainedIn('UF_SALA_COMPLEXO', siglas_estados)\n",
        "        ).run()\n",
        "    )\n",
        "\n",
        "    return verificacao.checkResults[0]"
      ],
      "metadata": {
        "id": "wuBkgqXb64qC"
      },
      "execution_count": 48,
      "outputs": []
    },
    {
      "cell_type": "code",
      "source": [
        "def verifica_validade(spark, df, teste_generico):\n",
        "    siglas_estados = [\n",
        "    \"AC\",  # Acre\n",
        "    \"AL\",  # Alagoas\n",
        "    \"AP\",  # Amapá\n",
        "    \"AM\",  # Amazonas\n",
        "    \"BA\",  # Bahia\n",
        "    \"CE\",  # Ceará\n",
        "    \"DF\",  # Distrito Federal\n",
        "    \"ES\",  # Espírito Santo\n",
        "    \"GO\",  # Goiás\n",
        "    \"MA\",  # Maranhão\n",
        "    \"MT\",  # Mato Grosso\n",
        "    \"MS\",  # Mato Grosso do Sul\n",
        "    \"MG\",  # Minas Gerais\n",
        "    \"PA\",  # Pará\n",
        "    \"PB\",  # Paraíba\n",
        "    \"PR\",  # Paraná\n",
        "    \"PE\",  # Pernambuco\n",
        "    \"PI\",  # Piauí\n",
        "    \"RJ\",  # Rio de Janeiro\n",
        "    \"RN\",  # Rio Grande do Norte\n",
        "    \"RS\",  # Rio Grande do Sul\n",
        "    \"RO\",  # Rondônia\n",
        "    \"RR\",  # Roraima\n",
        "    \"SC\",  # Santa Catarina\n",
        "    \"SP\",  # São Paulo\n",
        "    \"SE\",  # Sergipe\n",
        "    \"TO\"   # Tocantins\n",
        "    ]\n",
        "    verificacao = (\n",
        "        VerificationSuite(spark)\n",
        "        .onData(df)\n",
        "        .addCheck(\n",
        "            teste_generico.isContainedIn('UF_SALA_COMPLEXO', siglas_estados)\n",
        "        ).run()\n",
        "    )\n",
        "\n",
        "    return verificacao.checkResults[0]"
      ],
      "metadata": {
        "id": "u87lyfLy66vY"
      },
      "execution_count": 49,
      "outputs": []
    },
    {
      "cell_type": "code",
      "source": [
        "resultado_validade = verifica_validade(spark, df, cria_check(spark))"
      ],
      "metadata": {
        "id": "e6sWgy8869Ce"
      },
      "execution_count": 50,
      "outputs": []
    },
    {
      "cell_type": "code",
      "source": [
        "resultado_validade"
      ],
      "metadata": {
        "colab": {
          "base_uri": "https://localhost:8080/"
        },
        "id": "Rd0RtbIS6-SN",
        "outputId": "aeb3aed1-4667-4de4-977b-f3ecc45d2a32"
      },
      "execution_count": 51,
      "outputs": [
        {
          "output_type": "execute_result",
          "data": {
            "text/plain": [
              "{'check_status': 'Success',\n",
              " 'check_level': 'Error',\n",
              " 'constraint_status': 'Success',\n",
              " 'check': 'Teste Generico',\n",
              " 'constraint_message': '',\n",
              " 'constraint': \"ComplianceConstraint(Compliance(UF_SALA_COMPLEXO contained in AC,AL,AP,AM,BA,CE,DF,ES,GO,MA,MT,MS,MG,PA,PB,PR,PE,PI,RJ,RN,RS,RO,RR,SC,SP,SE,TO,`UF_SALA_COMPLEXO` IS NULL OR `UF_SALA_COMPLEXO` IN ('AC','AL','AP','AM','BA','CE','DF','ES','GO','MA','MT','MS','MG','PA','PB','PR','PE','PI','RJ','RN','RS','RO','RR','SC','SP','SE','TO'),None))\"}"
            ]
          },
          "metadata": {},
          "execution_count": 51
        }
      ]
    },
    {
      "cell_type": "code",
      "source": [
        "def verifica_completude(spark, df, teste_generico):\n",
        "    verificacao = (\n",
        "        VerificationSuite(spark)\n",
        "        .onData(df)\n",
        "        .addCheck(\n",
        "            teste_generico.haveCompleteness(df.columns, lambda comp : comp >= 0.9)\n",
        "        ).run()\n",
        "    )\n",
        "    return verificacao.checkResults[0]"
      ],
      "metadata": {
        "id": "qTnG-C477ASL"
      },
      "execution_count": 52,
      "outputs": []
    },
    {
      "cell_type": "code",
      "source": [
        "resultado_completude = verifica_completude(spark, df, cria_check(spark))"
      ],
      "metadata": {
        "id": "udTMSPz97Gvc"
      },
      "execution_count": 53,
      "outputs": []
    },
    {
      "cell_type": "code",
      "source": [
        "resultado_completude"
      ],
      "metadata": {
        "colab": {
          "base_uri": "https://localhost:8080/"
        },
        "id": "HE2ZcCJm7IBs",
        "outputId": "ddfd0943-8dad-4058-fa61-8ca7c1d74418"
      },
      "execution_count": 54,
      "outputs": [
        {
          "output_type": "execute_result",
          "data": {
            "text/plain": [
              "{'check_status': 'Error',\n",
              " 'check_level': 'Error',\n",
              " 'constraint_status': 'Failure',\n",
              " 'check': 'Teste Generico',\n",
              " 'constraint_message': 'Value: 0.6618747789175805 does not meet the constraint requirement!',\n",
              " 'constraint': 'ComplianceConstraint(Compliance(Combined Completeness,(((((((((((((((DATA_EXIBICAO IS NOT NULL) AND (TITULO_ORIGINAL IS NOT NULL)) AND (TITULO_BRASIL IS NOT NULL)) AND (CPB_ROE IS NOT NULL)) AND (PAIS_OBRA IS NOT NULL)) AND (REGISTRO_SALA IS NOT NULL)) AND (NOME_SALA IS NOT NULL)) AND (PUBLICO IS NOT NULL)) AND (REGISTRO_GRUPO_EXIBIDOR IS NOT NULL)) AND (REGISTRO_EXIBIDOR IS NOT NULL)) AND (REGISTRO_COMPLEXO IS NOT NULL)) AND (MUNICIPIO_SALA_COMPLEXO IS NOT NULL)) AND (UF_SALA_COMPLEXO IS NOT NULL)) AND (RAZAO_SOCIAL_DISTRIBUIDORA IS NOT NULL)) AND (CNPJ_DISTRIBUIDORA IS NOT NULL)),None))'}"
            ]
          },
          "metadata": {},
          "execution_count": 54
        }
      ]
    },
    {
      "cell_type": "code",
      "source": [
        "def  verifica_unicidade(spark, df, teste_generico, coluna):\n",
        "    verificacao = (\n",
        "        VerificationSuite(spark)\n",
        "        .onData(df)\n",
        "        .addCheck(\n",
        "            teste_generico.isUnique(coluna)\n",
        "        ).run()\n",
        "    )\n",
        "    return verificacao.checkResults[0]"
      ],
      "metadata": {
        "id": "2-uZiv9m7Jt2"
      },
      "execution_count": 55,
      "outputs": []
    },
    {
      "cell_type": "code",
      "source": [
        "verifica_unicidade(spark, df, cria_check(spark), 'PUBLICO')"
      ],
      "metadata": {
        "colab": {
          "base_uri": "https://localhost:8080/"
        },
        "id": "R2lUjijp7Qby",
        "outputId": "81868bb5-2b53-4474-ad6d-6ed5ae80f385"
      },
      "execution_count": 56,
      "outputs": [
        {
          "output_type": "execute_result",
          "data": {
            "text/plain": [
              "{'check_status': 'Error',\n",
              " 'check_level': 'Error',\n",
              " 'constraint_status': 'Failure',\n",
              " 'check': 'Teste Generico',\n",
              " 'constraint_message': 'Value: 6.29642730810046E-4 does not meet the constraint requirement!',\n",
              " 'constraint': 'UniquenessConstraint(Uniqueness(List(PUBLICO),None))'}"
            ]
          },
          "metadata": {},
          "execution_count": 56
        }
      ]
    },
    {
      "cell_type": "code",
      "source": [
        "from pydeequ.suggestions import *"
      ],
      "metadata": {
        "id": "j-8oL7Hd7QsY"
      },
      "execution_count": 57,
      "outputs": []
    },
    {
      "cell_type": "code",
      "source": [
        "sugestoes = (\n",
        "    ConstraintSuggestionRunner(spark)\n",
        "    .onData(df)\n",
        "    .addConstraintRule(DEFAULT())\n",
        "    .run()\n",
        ")"
      ],
      "metadata": {
        "id": "7JGIqX1f8FL6"
      },
      "execution_count": 58,
      "outputs": []
    },
    {
      "cell_type": "code",
      "source": [
        "for sugestao in sugestoes['constraint_suggestions']:\n",
        "    print(f\"Sugestão : {sugestao['column_name']} : {sugestao['description']}\")"
      ],
      "metadata": {
        "colab": {
          "base_uri": "https://localhost:8080/"
        },
        "id": "i8RJSzY78I1F",
        "outputId": "1eb3d7a9-dcdf-4d80-ac09-db42fb0db034"
      },
      "execution_count": 59,
      "outputs": [
        {
          "output_type": "stream",
          "name": "stdout",
          "text": [
            "Sugestão : REGISTRO_COMPLEXO : 'REGISTRO_COMPLEXO' has no negative values\n",
            "Sugestão : REGISTRO_COMPLEXO : 'REGISTRO_COMPLEXO' has less than 1% missing values\n",
            "Sugestão : REGISTRO_COMPLEXO : 'REGISTRO_COMPLEXO' has type Integral\n",
            "Sugestão : UF_SALA_COMPLEXO : 'UF_SALA_COMPLEXO' has value range 'SP', 'RJ', 'MG', 'PR', 'RS', 'SC', 'BA', 'PE', 'GO', 'CE', 'DF', 'ES', 'PA', 'MT', 'AM', 'MA', 'PB', 'AL', 'RN', 'SE', 'MS', 'RO', 'PI', 'TO', 'AP', 'RR', 'AC'\n",
            "Sugestão : UF_SALA_COMPLEXO : 'UF_SALA_COMPLEXO' is not null\n",
            "Sugestão : UF_SALA_COMPLEXO : 'UF_SALA_COMPLEXO' has value range 'SP', 'RJ', 'MG', 'PR', 'RS', 'SC', 'BA', 'PE', 'GO', 'CE', 'DF', 'ES', 'PA', 'MT', 'AM' for at least 90.0% of values\n",
            "Sugestão : REGISTRO_SALA : 'REGISTRO_SALA' has no negative values\n",
            "Sugestão : REGISTRO_SALA : 'REGISTRO_SALA' has less than 1% missing values\n",
            "Sugestão : REGISTRO_SALA : 'REGISTRO_SALA' has type Integral\n",
            "Sugestão : PAIS_OBRA : 'PAIS_OBRA' is not null\n",
            "Sugestão : PAIS_OBRA : 'PAIS_OBRA' has value range 'ESTADOS UNIDOS', 'BRASIL', 'INGLATERRA' for at least 94.0% of values\n",
            "Sugestão : TITULO_BRASIL : 'TITULO_BRASIL' has value range 'WONKA', 'AQUAMAN 2: O REINO PERDIDO', 'JOGOS VORAZES - A CANTIGA DOS PÁSSAROS E DAS SERPENTES', 'NAPOLEÃO', 'FERIADO SANGRENTO', 'AS MARVELS', 'TROLLS 3 - JUNTOS NOVAMENTE', 'FIVE NIGHTS AT FREDDY''S - O PESADELO SEM FIM', 'DIGIMON ADVENTURE 02: THE BEGINNING', 'O SILÊNCIO DA VINGANÇA' for at least 90.0% of values\n",
            "Sugestão : TITULO_BRASIL : 'TITULO_BRASIL' has less than 27% missing values\n",
            "Sugestão : CPB_ROE : 'CPB_ROE' is not null\n",
            "Sugestão : RAZAO_SOCIAL_DISTRIBUIDORA : 'RAZAO_SOCIAL_DISTRIBUIDORA' has value range 'WARNER BROS. (SOUTH) INC.', 'SM DISTRIBUIDORA DE FILMES LTDA', 'COLUMBIA TRISTAR FILMES DO BRASIL LTDA', 'THE WALT DISNEY COMPANY (BRASIL) LTDA.', 'WMIX DISTRIBUIDORA LTDA.', 'H2O DISTRIBUIDORA DE FILMES LTDA', 'UNITED CINEMAS INTERNATIONAL BRASIL LTDA.', 'DIAMOND FILMS DO BRASIL PRODUÇÃO E DISTRIBUIÇÃO AUDIOVISUAL LTDA.', 'O2 PRODUÇÕES ARTÍSTICAS E CINEMATOGRÁFICAS LTDA.', '360 ENTRETENIMENTO E DISTRIBUICAO DE FILMES LTDA ­ ME', 'TAG CULTURAL DISTRIBUIDORA DE FILMES LTDA', 'PROVIDENCE DISTRIBUIDORA DE FILMES LTDA - EPP', 'VITRINE FILMES LTDA', 'PARAMOUNT PICTURES BRASIL DISTRIBUIDORA DE FILMES LTDA', 'CINECOLOR DO BRASIL LTDA', 'ELO AUDIOVISUAL SERVIÇOS LTDA', 'SYNAPSE BRAZIL PRODUCTION AND DISTRIBUTION LTDA', 'FREESPIRIT DISTRIBUIDORA DE FILMES LTDA.', 'RISI FILM BRASIL LTDA.', 'F D DA SILVA - ME', 'ZETA FILMES LTDA', 'STARK''S CINEMA E LANCHONETE LTDA.', 'GARDA DISTRIBUIDORA DE FILMES LTDA', 'OLHAR DISTRIBUICAO DE FILMES LTDA', 'A2 DISTRIBUIDORA DE FILMES LTDA EPP', 'DESCOLONIZA FILMES E PRODUCOES ARTISTICAS EIRELI', 'LUDWIG MAIA ARTHOUSE DISTRIBUIDORA DE FILMES LTDA', 'LUCIANO DA LUZ MOUCKS', 'CLUBE FILMES LTDA', 'EMBAUBA FILMES LTDA', 'LUCIANA REGINA RODRIGUES -ME', 'LIRA FILMES PRODUÇÕES LTDA ME', 'BOULEVARD FILMES LTDA', 'UNIFILMES DISTRIBUIDORA, IMPORTADORA E EXPORTADORA DE FILMES LTDA', 'CSF DISTRIBUIDORA & STREAMING LTDA', 'CINE CAXAMBU LTDA', 'PLAYARTE PICTURES ENTRETENIMENTOS LTDA.'\n",
            "Sugestão : RAZAO_SOCIAL_DISTRIBUIDORA : 'RAZAO_SOCIAL_DISTRIBUIDORA' is not null\n",
            "Sugestão : RAZAO_SOCIAL_DISTRIBUIDORA : 'RAZAO_SOCIAL_DISTRIBUIDORA' has value range 'WARNER BROS. (SOUTH) INC.', 'SM DISTRIBUIDORA DE FILMES LTDA', 'COLUMBIA TRISTAR FILMES DO BRASIL LTDA', 'THE WALT DISNEY COMPANY (BRASIL) LTDA.', 'WMIX DISTRIBUIDORA LTDA.' for at least 90.0% of values\n",
            "Sugestão : REGISTRO_GRUPO_EXIBIDOR : 'REGISTRO_GRUPO_EXIBIDOR' has value range '6000018', '6000024', '6000037', '6000002', '6000027', '6000058', '6000014', '6000100', '6000008', '6000034', '6000006', '6000013', '6000029', '6000106', '6000059', '6000003', '6000045', '6000031', '6000025', '6000000', '6000017', '6000104', '6000032', '6000060', '6000049', '6000023', '6000040', '6000030', '6000028', '6000046', '6000109', '6000047', '6000021', '6000007', '6000051', '6000057', '6000141', '6000092', '6000052', '6000036', '6000016', '6000056', '6000041', '6000048', '6000010', '6000120', '6000012', '6000084', '6000110', '6000050', '6000096', '6000121', '6000107', '6000161', '6000103', '6000122', '6000019', '6000083', '6000140', '6000009', '6000163', '5002765', '6000105', '6000055'\n",
            "Sugestão : REGISTRO_GRUPO_EXIBIDOR : 'REGISTRO_GRUPO_EXIBIDOR' has value range '6000018', '6000024', '6000037', '6000002', '6000027', '6000058', '6000014', '6000100', '6000008', '6000034', '6000006', '6000013', '6000029', '6000106', '6000059', '6000003', '6000045', '6000031', '6000025', '6000000', '6000017', '6000104', '6000032', '6000060' for at least 89.0% of values\n",
            "Sugestão : REGISTRO_GRUPO_EXIBIDOR : 'REGISTRO_GRUPO_EXIBIDOR' has no negative values\n",
            "Sugestão : REGISTRO_GRUPO_EXIBIDOR : 'REGISTRO_GRUPO_EXIBIDOR' has less than 9% missing values\n",
            "Sugestão : REGISTRO_GRUPO_EXIBIDOR : 'REGISTRO_GRUPO_EXIBIDOR' has type Integral\n",
            "Sugestão : NOME_SALA : 'NOME_SALA' is not null\n",
            "Sugestão : TITULO_ORIGINAL : 'TITULO_ORIGINAL' is not null\n",
            "Sugestão : PUBLICO : 'PUBLICO' is not null\n",
            "Sugestão : PUBLICO : 'PUBLICO' has no negative values\n",
            "Sugestão : MUNICIPIO_SALA_COMPLEXO : 'MUNICIPIO_SALA_COMPLEXO' is not null\n",
            "Sugestão : CNPJ_DISTRIBUIDORA : 'CNPJ_DISTRIBUIDORA' has value range '33.015.827/0001-28', '08.257.054/0001-49', '00.979.601/0001-98', '73.042.962/0001-87', '03.918.609/0001-32', '15.372.472/0001-42', '01.289.530/0001-64', '17.095.184/0001-13', '67.431.718/0001-03', '22.208.152/0001-17', '03.599.148/0001-82', '08.656.129/0001-64', '11.620.976/0001-83', '27.654.722/0001-16', '05.332.959/0001-48', '07.700.630/0001-18', '02.185.369/0001-41', '07.616.202/0001-01', '37.914.915/0001-12', '24.578.765/0001-71', '02.469.679/0001-98', '32.917.296/0001-04', '34.433.654/0001-20', '28.083.221/0001-90', '18.338.912/0001-33', '33.427.044/0001-51', '05.249.852/0001-30', '02.743.258/0001-03', '46.401.439/0001-27', '15.144.532/0001-70', '28.027.101/0001-75', '21.054.261/0001-64', '12.452.477/0001-97', '12.126.484/0001-07', '39.493.419/0001-68', '00.943.231/0001-39', '50.552.809/0001-02'\n",
            "Sugestão : CNPJ_DISTRIBUIDORA : 'CNPJ_DISTRIBUIDORA' is not null\n",
            "Sugestão : CNPJ_DISTRIBUIDORA : 'CNPJ_DISTRIBUIDORA' has value range '33.015.827/0001-28', '08.257.054/0001-49', '00.979.601/0001-98', '73.042.962/0001-87', '03.918.609/0001-32' for at least 90.0% of values\n",
            "Sugestão : REGISTRO_EXIBIDOR : 'REGISTRO_EXIBIDOR' has no negative values\n",
            "Sugestão : REGISTRO_EXIBIDOR : 'REGISTRO_EXIBIDOR' has less than 1% missing values\n",
            "Sugestão : REGISTRO_EXIBIDOR : 'REGISTRO_EXIBIDOR' has type Integral\n",
            "Sugestão : DATA_EXIBICAO : 'DATA_EXIBICAO' has value range '09/12/2023', '10/12/2023', '02/12/2023', '03/12/2023', '13/12/2023', '07/12/2023', '08/12/2023', '12/12/2023', '16/12/2023', '11/12/2023', '01/12/2023', '17/12/2023', '06/12/2023', '14/12/2023', '28/12/2023', '05/12/2023', '15/12/2023', '29/12/2023', '30/12/2023', '21/12/2023', '19/12/2023', '04/12/2023', '23/12/2023', '18/12/2023', '20/12/2023', '22/12/2023', '27/12/2023', '26/12/2023', '25/12/2023', '24/12/2023', '31/12/2023'\n",
            "Sugestão : DATA_EXIBICAO : 'DATA_EXIBICAO' is not null\n",
            "Sugestão : DATA_EXIBICAO : 'DATA_EXIBICAO' has value range '09/12/2023', '10/12/2023', '02/12/2023', '03/12/2023', '13/12/2023', '07/12/2023', '08/12/2023', '12/12/2023', '16/12/2023', '11/12/2023', '01/12/2023', '17/12/2023', '06/12/2023', '14/12/2023', '28/12/2023', '05/12/2023', '15/12/2023', '29/12/2023', '30/12/2023', '21/12/2023', '19/12/2023', '04/12/2023', '23/12/2023', '18/12/2023', '20/12/2023', '22/12/2023' for at least 90.0% of values\n"
          ]
        }
      ]
    },
    {
      "cell_type": "code",
      "source": [
        "for sugestao in sugestoes['constraint_suggestions']:\n",
        "    print(f\"Sugestão : {sugestao['column_name']} : {sugestao['description']}\")\n",
        "    print(f\"teste sugerido: {sugestao['code_for_constraint']}\")"
      ],
      "metadata": {
        "colab": {
          "base_uri": "https://localhost:8080/"
        },
        "id": "Z5HiPaiY8Jgu",
        "outputId": "6d498574-d9a2-45c2-81f5-b50a0f1fabfc"
      },
      "execution_count": 60,
      "outputs": [
        {
          "output_type": "stream",
          "name": "stdout",
          "text": [
            "Sugestão : REGISTRO_COMPLEXO : 'REGISTRO_COMPLEXO' has no negative values\n",
            "teste sugerido: .isNonNegative(\"REGISTRO_COMPLEXO\")\n",
            "Sugestão : REGISTRO_COMPLEXO : 'REGISTRO_COMPLEXO' has less than 1% missing values\n",
            "teste sugerido: .hasCompleteness(\"REGISTRO_COMPLEXO\", lambda x: x >= 0.99, \"It should be above 0.99!\")\n",
            "Sugestão : REGISTRO_COMPLEXO : 'REGISTRO_COMPLEXO' has type Integral\n",
            "teste sugerido: .hasDataType(\"REGISTRO_COMPLEXO\", ConstrainableDataTypes.Integral)\n",
            "Sugestão : UF_SALA_COMPLEXO : 'UF_SALA_COMPLEXO' has value range 'SP', 'RJ', 'MG', 'PR', 'RS', 'SC', 'BA', 'PE', 'GO', 'CE', 'DF', 'ES', 'PA', 'MT', 'AM', 'MA', 'PB', 'AL', 'RN', 'SE', 'MS', 'RO', 'PI', 'TO', 'AP', 'RR', 'AC'\n",
            "teste sugerido: .isContainedIn(\"UF_SALA_COMPLEXO\", [\"SP\", \"RJ\", \"MG\", \"PR\", \"RS\", \"SC\", \"BA\", \"PE\", \"GO\", \"CE\", \"DF\", \"ES\", \"PA\", \"MT\", \"AM\", \"MA\", \"PB\", \"AL\", \"RN\", \"SE\", \"MS\", \"RO\", \"PI\", \"TO\", \"AP\", \"RR\", \"AC\"])\n",
            "Sugestão : UF_SALA_COMPLEXO : 'UF_SALA_COMPLEXO' is not null\n",
            "teste sugerido: .isComplete(\"UF_SALA_COMPLEXO\")\n",
            "Sugestão : UF_SALA_COMPLEXO : 'UF_SALA_COMPLEXO' has value range 'SP', 'RJ', 'MG', 'PR', 'RS', 'SC', 'BA', 'PE', 'GO', 'CE', 'DF', 'ES', 'PA', 'MT', 'AM' for at least 90.0% of values\n",
            "teste sugerido: .isContainedIn(\"UF_SALA_COMPLEXO\", [\"SP\", \"RJ\", \"MG\", \"PR\", \"RS\", \"SC\", \"BA\", \"PE\", \"GO\", \"CE\", \"DF\", \"ES\", \"PA\", \"MT\", \"AM\"], lambda x: x >= 0.9, \"It should be above 0.9!\")\n",
            "Sugestão : REGISTRO_SALA : 'REGISTRO_SALA' has no negative values\n",
            "teste sugerido: .isNonNegative(\"REGISTRO_SALA\")\n",
            "Sugestão : REGISTRO_SALA : 'REGISTRO_SALA' has less than 1% missing values\n",
            "teste sugerido: .hasCompleteness(\"REGISTRO_SALA\", lambda x: x >= 0.99, \"It should be above 0.99!\")\n",
            "Sugestão : REGISTRO_SALA : 'REGISTRO_SALA' has type Integral\n",
            "teste sugerido: .hasDataType(\"REGISTRO_SALA\", ConstrainableDataTypes.Integral)\n",
            "Sugestão : PAIS_OBRA : 'PAIS_OBRA' is not null\n",
            "teste sugerido: .isComplete(\"PAIS_OBRA\")\n",
            "Sugestão : PAIS_OBRA : 'PAIS_OBRA' has value range 'ESTADOS UNIDOS', 'BRASIL', 'INGLATERRA' for at least 94.0% of values\n",
            "teste sugerido: .isContainedIn(\"PAIS_OBRA\", [\"ESTADOS UNIDOS\", \"BRASIL\", \"INGLATERRA\"], lambda x: x >= 0.94, \"It should be above 0.94!\")\n",
            "Sugestão : TITULO_BRASIL : 'TITULO_BRASIL' has value range 'WONKA', 'AQUAMAN 2: O REINO PERDIDO', 'JOGOS VORAZES - A CANTIGA DOS PÁSSAROS E DAS SERPENTES', 'NAPOLEÃO', 'FERIADO SANGRENTO', 'AS MARVELS', 'TROLLS 3 - JUNTOS NOVAMENTE', 'FIVE NIGHTS AT FREDDY''S - O PESADELO SEM FIM', 'DIGIMON ADVENTURE 02: THE BEGINNING', 'O SILÊNCIO DA VINGANÇA' for at least 90.0% of values\n",
            "teste sugerido: .isContainedIn(\"TITULO_BRASIL\", [\"WONKA\", \"AQUAMAN 2: O REINO PERDIDO\", \"JOGOS VORAZES - A CANTIGA DOS P\\u00C1SSAROS E DAS SERPENTES\", \"NAPOLE\\u00C3O\", \"FERIADO SANGRENTO\", \"AS MARVELS\", \"TROLLS 3 - JUNTOS NOVAMENTE\", \"FIVE NIGHTS AT FREDDY'S - O PESADELO SEM FIM\", \"DIGIMON ADVENTURE 02: THE BEGINNING\", \"O SIL\\u00CANCIO DA VINGAN\\u00C7A\"], lambda x: x >= 0.9, \"It should be above 0.9!\")\n",
            "Sugestão : TITULO_BRASIL : 'TITULO_BRASIL' has less than 27% missing values\n",
            "teste sugerido: .hasCompleteness(\"TITULO_BRASIL\", lambda x: x >= 0.73, \"It should be above 0.73!\")\n",
            "Sugestão : CPB_ROE : 'CPB_ROE' is not null\n",
            "teste sugerido: .isComplete(\"CPB_ROE\")\n",
            "Sugestão : RAZAO_SOCIAL_DISTRIBUIDORA : 'RAZAO_SOCIAL_DISTRIBUIDORA' has value range 'WARNER BROS. (SOUTH) INC.', 'SM DISTRIBUIDORA DE FILMES LTDA', 'COLUMBIA TRISTAR FILMES DO BRASIL LTDA', 'THE WALT DISNEY COMPANY (BRASIL) LTDA.', 'WMIX DISTRIBUIDORA LTDA.', 'H2O DISTRIBUIDORA DE FILMES LTDA', 'UNITED CINEMAS INTERNATIONAL BRASIL LTDA.', 'DIAMOND FILMS DO BRASIL PRODUÇÃO E DISTRIBUIÇÃO AUDIOVISUAL LTDA.', 'O2 PRODUÇÕES ARTÍSTICAS E CINEMATOGRÁFICAS LTDA.', '360 ENTRETENIMENTO E DISTRIBUICAO DE FILMES LTDA ­ ME', 'TAG CULTURAL DISTRIBUIDORA DE FILMES LTDA', 'PROVIDENCE DISTRIBUIDORA DE FILMES LTDA - EPP', 'VITRINE FILMES LTDA', 'PARAMOUNT PICTURES BRASIL DISTRIBUIDORA DE FILMES LTDA', 'CINECOLOR DO BRASIL LTDA', 'ELO AUDIOVISUAL SERVIÇOS LTDA', 'SYNAPSE BRAZIL PRODUCTION AND DISTRIBUTION LTDA', 'FREESPIRIT DISTRIBUIDORA DE FILMES LTDA.', 'RISI FILM BRASIL LTDA.', 'F D DA SILVA - ME', 'ZETA FILMES LTDA', 'STARK''S CINEMA E LANCHONETE LTDA.', 'GARDA DISTRIBUIDORA DE FILMES LTDA', 'OLHAR DISTRIBUICAO DE FILMES LTDA', 'A2 DISTRIBUIDORA DE FILMES LTDA EPP', 'DESCOLONIZA FILMES E PRODUCOES ARTISTICAS EIRELI', 'LUDWIG MAIA ARTHOUSE DISTRIBUIDORA DE FILMES LTDA', 'LUCIANO DA LUZ MOUCKS', 'CLUBE FILMES LTDA', 'EMBAUBA FILMES LTDA', 'LUCIANA REGINA RODRIGUES -ME', 'LIRA FILMES PRODUÇÕES LTDA ME', 'BOULEVARD FILMES LTDA', 'UNIFILMES DISTRIBUIDORA, IMPORTADORA E EXPORTADORA DE FILMES LTDA', 'CSF DISTRIBUIDORA & STREAMING LTDA', 'CINE CAXAMBU LTDA', 'PLAYARTE PICTURES ENTRETENIMENTOS LTDA.'\n",
            "teste sugerido: .isContainedIn(\"RAZAO_SOCIAL_DISTRIBUIDORA\", [\"WARNER BROS. (SOUTH] INC.\", \"SM DISTRIBUIDORA DE FILMES LTDA\", \"COLUMBIA TRISTAR FILMES DO BRASIL LTDA\", \"THE WALT DISNEY COMPANY (BRASIL) LTDA.\", \"WMIX DISTRIBUIDORA LTDA.\", \"H2O DISTRIBUIDORA DE FILMES LTDA\", \"UNITED CINEMAS INTERNATIONAL BRASIL LTDA.\", \"DIAMOND FILMS DO BRASIL PRODU\\u00C7\\u00C3O E DISTRIBUI\\u00C7\\u00C3O AUDIOVISUAL LTDA.\", \"O2 PRODU\\u00C7\\u00D5ES ART\\u00CDSTICAS E CINEMATOGR\\u00C1FICAS LTDA.\", \"360 ENTRETENIMENTO E DISTRIBUICAO DE FILMES LTDA \\u00AD ME\", \"TAG CULTURAL DISTRIBUIDORA DE FILMES LTDA\", \"PROVIDENCE DISTRIBUIDORA DE FILMES LTDA - EPP\", \"VITRINE FILMES LTDA\", \"PARAMOUNT PICTURES BRASIL DISTRIBUIDORA DE FILMES LTDA\", \"CINECOLOR DO BRASIL LTDA\", \"ELO AUDIOVISUAL SERVI\\u00C7OS LTDA\", \"SYNAPSE BRAZIL PRODUCTION AND DISTRIBUTION LTDA\", \"FREESPIRIT DISTRIBUIDORA DE FILMES LTDA.\", \"RISI FILM BRASIL LTDA.\", \"F D DA SILVA - ME\", \"ZETA FILMES LTDA\", \"STARK'S CINEMA E LANCHONETE LTDA.\", \"GARDA DISTRIBUIDORA DE FILMES LTDA\", \"OLHAR DISTRIBUICAO DE FILMES LTDA\", \"A2 DISTRIBUIDORA DE FILMES LTDA EPP\", \"DESCOLONIZA FILMES E PRODUCOES ARTISTICAS EIRELI\", \"LUDWIG MAIA ARTHOUSE DISTRIBUIDORA DE FILMES LTDA\", \"LUCIANO DA LUZ MOUCKS\", \"CLUBE FILMES LTDA\", \"EMBAUBA FILMES LTDA\", \"LUCIANA REGINA RODRIGUES -ME\", \"LIRA FILMES PRODU\\u00C7\\u00D5ES LTDA ME\", \"BOULEVARD FILMES LTDA\", \"UNIFILMES DISTRIBUIDORA, IMPORTADORA E EXPORTADORA DE FILMES LTDA\", \"CSF DISTRIBUIDORA & STREAMING LTDA\", \"CINE CAXAMBU LTDA\", \"PLAYARTE PICTURES ENTRETENIMENTOS LTDA.\"))\n",
            "Sugestão : RAZAO_SOCIAL_DISTRIBUIDORA : 'RAZAO_SOCIAL_DISTRIBUIDORA' is not null\n",
            "teste sugerido: .isComplete(\"RAZAO_SOCIAL_DISTRIBUIDORA\")\n",
            "Sugestão : RAZAO_SOCIAL_DISTRIBUIDORA : 'RAZAO_SOCIAL_DISTRIBUIDORA' has value range 'WARNER BROS. (SOUTH) INC.', 'SM DISTRIBUIDORA DE FILMES LTDA', 'COLUMBIA TRISTAR FILMES DO BRASIL LTDA', 'THE WALT DISNEY COMPANY (BRASIL) LTDA.', 'WMIX DISTRIBUIDORA LTDA.' for at least 90.0% of values\n",
            "teste sugerido: .isContainedIn(\"RAZAO_SOCIAL_DISTRIBUIDORA\", [\"WARNER BROS. (SOUTH] INC.\", \"SM DISTRIBUIDORA DE FILMES LTDA\", \"COLUMBIA TRISTAR FILMES DO BRASIL LTDA\", \"THE WALT DISNEY COMPANY (BRASIL) LTDA.\", \"WMIX DISTRIBUIDORA LTDA.\"), lambda x: x >= 0.9, \"It should be above 0.9!\")\n",
            "Sugestão : REGISTRO_GRUPO_EXIBIDOR : 'REGISTRO_GRUPO_EXIBIDOR' has value range '6000018', '6000024', '6000037', '6000002', '6000027', '6000058', '6000014', '6000100', '6000008', '6000034', '6000006', '6000013', '6000029', '6000106', '6000059', '6000003', '6000045', '6000031', '6000025', '6000000', '6000017', '6000104', '6000032', '6000060', '6000049', '6000023', '6000040', '6000030', '6000028', '6000046', '6000109', '6000047', '6000021', '6000007', '6000051', '6000057', '6000141', '6000092', '6000052', '6000036', '6000016', '6000056', '6000041', '6000048', '6000010', '6000120', '6000012', '6000084', '6000110', '6000050', '6000096', '6000121', '6000107', '6000161', '6000103', '6000122', '6000019', '6000083', '6000140', '6000009', '6000163', '5002765', '6000105', '6000055'\n",
            "teste sugerido: .isContainedIn(\"REGISTRO_GRUPO_EXIBIDOR\", [\"6000018\", \"6000024\", \"6000037\", \"6000002\", \"6000027\", \"6000058\", \"6000014\", \"6000100\", \"6000008\", \"6000034\", \"6000006\", \"6000013\", \"6000029\", \"6000106\", \"6000059\", \"6000003\", \"6000045\", \"6000031\", \"6000025\", \"6000000\", \"6000017\", \"6000104\", \"6000032\", \"6000060\", \"6000049\", \"6000023\", \"6000040\", \"6000030\", \"6000028\", \"6000046\", \"6000109\", \"6000047\", \"6000021\", \"6000007\", \"6000051\", \"6000057\", \"6000141\", \"6000092\", \"6000052\", \"6000036\", \"6000016\", \"6000056\", \"6000041\", \"6000048\", \"6000010\", \"6000120\", \"6000012\", \"6000084\", \"6000110\", \"6000050\", \"6000096\", \"6000121\", \"6000107\", \"6000161\", \"6000103\", \"6000122\", \"6000019\", \"6000083\", \"6000140\", \"6000009\", \"6000163\", \"5002765\", \"6000105\", \"6000055\"])\n",
            "Sugestão : REGISTRO_GRUPO_EXIBIDOR : 'REGISTRO_GRUPO_EXIBIDOR' has value range '6000018', '6000024', '6000037', '6000002', '6000027', '6000058', '6000014', '6000100', '6000008', '6000034', '6000006', '6000013', '6000029', '6000106', '6000059', '6000003', '6000045', '6000031', '6000025', '6000000', '6000017', '6000104', '6000032', '6000060' for at least 89.0% of values\n",
            "teste sugerido: .isContainedIn(\"REGISTRO_GRUPO_EXIBIDOR\", [\"6000018\", \"6000024\", \"6000037\", \"6000002\", \"6000027\", \"6000058\", \"6000014\", \"6000100\", \"6000008\", \"6000034\", \"6000006\", \"6000013\", \"6000029\", \"6000106\", \"6000059\", \"6000003\", \"6000045\", \"6000031\", \"6000025\", \"6000000\", \"6000017\", \"6000104\", \"6000032\", \"6000060\"], lambda x: x >= 0.89, \"It should be above 0.89!\")\n",
            "Sugestão : REGISTRO_GRUPO_EXIBIDOR : 'REGISTRO_GRUPO_EXIBIDOR' has no negative values\n",
            "teste sugerido: .isNonNegative(\"REGISTRO_GRUPO_EXIBIDOR\")\n",
            "Sugestão : REGISTRO_GRUPO_EXIBIDOR : 'REGISTRO_GRUPO_EXIBIDOR' has less than 9% missing values\n",
            "teste sugerido: .hasCompleteness(\"REGISTRO_GRUPO_EXIBIDOR\", lambda x: x >= 0.9, \"It should be above 0.9!\")\n",
            "Sugestão : REGISTRO_GRUPO_EXIBIDOR : 'REGISTRO_GRUPO_EXIBIDOR' has type Integral\n",
            "teste sugerido: .hasDataType(\"REGISTRO_GRUPO_EXIBIDOR\", ConstrainableDataTypes.Integral)\n",
            "Sugestão : NOME_SALA : 'NOME_SALA' is not null\n",
            "teste sugerido: .isComplete(\"NOME_SALA\")\n",
            "Sugestão : TITULO_ORIGINAL : 'TITULO_ORIGINAL' is not null\n",
            "teste sugerido: .isComplete(\"TITULO_ORIGINAL\")\n",
            "Sugestão : PUBLICO : 'PUBLICO' is not null\n",
            "teste sugerido: .isComplete(\"PUBLICO\")\n",
            "Sugestão : PUBLICO : 'PUBLICO' has no negative values\n",
            "teste sugerido: .isNonNegative(\"PUBLICO\")\n",
            "Sugestão : MUNICIPIO_SALA_COMPLEXO : 'MUNICIPIO_SALA_COMPLEXO' is not null\n",
            "teste sugerido: .isComplete(\"MUNICIPIO_SALA_COMPLEXO\")\n",
            "Sugestão : CNPJ_DISTRIBUIDORA : 'CNPJ_DISTRIBUIDORA' has value range '33.015.827/0001-28', '08.257.054/0001-49', '00.979.601/0001-98', '73.042.962/0001-87', '03.918.609/0001-32', '15.372.472/0001-42', '01.289.530/0001-64', '17.095.184/0001-13', '67.431.718/0001-03', '22.208.152/0001-17', '03.599.148/0001-82', '08.656.129/0001-64', '11.620.976/0001-83', '27.654.722/0001-16', '05.332.959/0001-48', '07.700.630/0001-18', '02.185.369/0001-41', '07.616.202/0001-01', '37.914.915/0001-12', '24.578.765/0001-71', '02.469.679/0001-98', '32.917.296/0001-04', '34.433.654/0001-20', '28.083.221/0001-90', '18.338.912/0001-33', '33.427.044/0001-51', '05.249.852/0001-30', '02.743.258/0001-03', '46.401.439/0001-27', '15.144.532/0001-70', '28.027.101/0001-75', '21.054.261/0001-64', '12.452.477/0001-97', '12.126.484/0001-07', '39.493.419/0001-68', '00.943.231/0001-39', '50.552.809/0001-02'\n",
            "teste sugerido: .isContainedIn(\"CNPJ_DISTRIBUIDORA\", [\"33.015.827/0001-28\", \"08.257.054/0001-49\", \"00.979.601/0001-98\", \"73.042.962/0001-87\", \"03.918.609/0001-32\", \"15.372.472/0001-42\", \"01.289.530/0001-64\", \"17.095.184/0001-13\", \"67.431.718/0001-03\", \"22.208.152/0001-17\", \"03.599.148/0001-82\", \"08.656.129/0001-64\", \"11.620.976/0001-83\", \"27.654.722/0001-16\", \"05.332.959/0001-48\", \"07.700.630/0001-18\", \"02.185.369/0001-41\", \"07.616.202/0001-01\", \"37.914.915/0001-12\", \"24.578.765/0001-71\", \"02.469.679/0001-98\", \"32.917.296/0001-04\", \"34.433.654/0001-20\", \"28.083.221/0001-90\", \"18.338.912/0001-33\", \"33.427.044/0001-51\", \"05.249.852/0001-30\", \"02.743.258/0001-03\", \"46.401.439/0001-27\", \"15.144.532/0001-70\", \"28.027.101/0001-75\", \"21.054.261/0001-64\", \"12.452.477/0001-97\", \"12.126.484/0001-07\", \"39.493.419/0001-68\", \"00.943.231/0001-39\", \"50.552.809/0001-02\"])\n",
            "Sugestão : CNPJ_DISTRIBUIDORA : 'CNPJ_DISTRIBUIDORA' is not null\n",
            "teste sugerido: .isComplete(\"CNPJ_DISTRIBUIDORA\")\n",
            "Sugestão : CNPJ_DISTRIBUIDORA : 'CNPJ_DISTRIBUIDORA' has value range '33.015.827/0001-28', '08.257.054/0001-49', '00.979.601/0001-98', '73.042.962/0001-87', '03.918.609/0001-32' for at least 90.0% of values\n",
            "teste sugerido: .isContainedIn(\"CNPJ_DISTRIBUIDORA\", [\"33.015.827/0001-28\", \"08.257.054/0001-49\", \"00.979.601/0001-98\", \"73.042.962/0001-87\", \"03.918.609/0001-32\"], lambda x: x >= 0.9, \"It should be above 0.9!\")\n",
            "Sugestão : REGISTRO_EXIBIDOR : 'REGISTRO_EXIBIDOR' has no negative values\n",
            "teste sugerido: .isNonNegative(\"REGISTRO_EXIBIDOR\")\n",
            "Sugestão : REGISTRO_EXIBIDOR : 'REGISTRO_EXIBIDOR' has less than 1% missing values\n",
            "teste sugerido: .hasCompleteness(\"REGISTRO_EXIBIDOR\", lambda x: x >= 0.99, \"It should be above 0.99!\")\n",
            "Sugestão : REGISTRO_EXIBIDOR : 'REGISTRO_EXIBIDOR' has type Integral\n",
            "teste sugerido: .hasDataType(\"REGISTRO_EXIBIDOR\", ConstrainableDataTypes.Integral)\n",
            "Sugestão : DATA_EXIBICAO : 'DATA_EXIBICAO' has value range '09/12/2023', '10/12/2023', '02/12/2023', '03/12/2023', '13/12/2023', '07/12/2023', '08/12/2023', '12/12/2023', '16/12/2023', '11/12/2023', '01/12/2023', '17/12/2023', '06/12/2023', '14/12/2023', '28/12/2023', '05/12/2023', '15/12/2023', '29/12/2023', '30/12/2023', '21/12/2023', '19/12/2023', '04/12/2023', '23/12/2023', '18/12/2023', '20/12/2023', '22/12/2023', '27/12/2023', '26/12/2023', '25/12/2023', '24/12/2023', '31/12/2023'\n",
            "teste sugerido: .isContainedIn(\"DATA_EXIBICAO\", [\"09/12/2023\", \"10/12/2023\", \"02/12/2023\", \"03/12/2023\", \"13/12/2023\", \"07/12/2023\", \"08/12/2023\", \"12/12/2023\", \"16/12/2023\", \"11/12/2023\", \"01/12/2023\", \"17/12/2023\", \"06/12/2023\", \"14/12/2023\", \"28/12/2023\", \"05/12/2023\", \"15/12/2023\", \"29/12/2023\", \"30/12/2023\", \"21/12/2023\", \"19/12/2023\", \"04/12/2023\", \"23/12/2023\", \"18/12/2023\", \"20/12/2023\", \"22/12/2023\", \"27/12/2023\", \"26/12/2023\", \"25/12/2023\", \"24/12/2023\", \"31/12/2023\"])\n",
            "Sugestão : DATA_EXIBICAO : 'DATA_EXIBICAO' is not null\n",
            "teste sugerido: .isComplete(\"DATA_EXIBICAO\")\n",
            "Sugestão : DATA_EXIBICAO : 'DATA_EXIBICAO' has value range '09/12/2023', '10/12/2023', '02/12/2023', '03/12/2023', '13/12/2023', '07/12/2023', '08/12/2023', '12/12/2023', '16/12/2023', '11/12/2023', '01/12/2023', '17/12/2023', '06/12/2023', '14/12/2023', '28/12/2023', '05/12/2023', '15/12/2023', '29/12/2023', '30/12/2023', '21/12/2023', '19/12/2023', '04/12/2023', '23/12/2023', '18/12/2023', '20/12/2023', '22/12/2023' for at least 90.0% of values\n",
            "teste sugerido: .isContainedIn(\"DATA_EXIBICAO\", [\"09/12/2023\", \"10/12/2023\", \"02/12/2023\", \"03/12/2023\", \"13/12/2023\", \"07/12/2023\", \"08/12/2023\", \"12/12/2023\", \"16/12/2023\", \"11/12/2023\", \"01/12/2023\", \"17/12/2023\", \"06/12/2023\", \"14/12/2023\", \"28/12/2023\", \"05/12/2023\", \"15/12/2023\", \"29/12/2023\", \"30/12/2023\", \"21/12/2023\", \"19/12/2023\", \"04/12/2023\", \"23/12/2023\", \"18/12/2023\", \"20/12/2023\", \"22/12/2023\"], lambda x: x >= 0.9, \"It should be above 0.9!\")\n"
          ]
        }
      ]
    },
    {
      "cell_type": "code",
      "source": [],
      "metadata": {
        "id": "eViVsBtk8NUP"
      },
      "execution_count": null,
      "outputs": []
    }
  ]
}